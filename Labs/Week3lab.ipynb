{
  "nbformat": 4,
  "nbformat_minor": 0,
  "metadata": {
    "colab": {
      "name": "Week3lab.ipynb",
      "private_outputs": true,
      "provenance": [],
      "authorship_tag": "ABX9TyNS5MMxuUgN735YvNTD/8jF",
      "include_colab_link": true
    },
    "kernelspec": {
      "name": "python3",
      "display_name": "Python 3"
    },
    "language_info": {
      "name": "python"
    }
  },
  "cells": [
    {
      "cell_type": "markdown",
      "metadata": {
        "id": "view-in-github",
        "colab_type": "text"
      },
      "source": [
        "<a href=\"https://colab.research.google.com/github/pallavrouth/AI-Bootcamp/blob/main/Labs/Week3lab.ipynb\" target=\"_parent\"><img src=\"https://colab.research.google.com/assets/colab-badge.svg\" alt=\"Open In Colab\"/></a>"
      ]
    },
    {
      "cell_type": "markdown",
      "metadata": {
        "id": "ulqbxv_tEacg"
      },
      "source": [
        "## Data information\n",
        "\n",
        "Panel data on cigarette consumption for the 48 continental US States from 1985–1995.\n",
        "\n",
        "A data frame containing 48 observations on 7 variables for 2 periods.\n",
        "- `state`: Factor indicating state.\n",
        "- `year`: Factor indicating year.\n",
        "- `cpi`: Consumer price index.\n",
        "- `population`: State population.\n",
        "- `packs`: Number of packs per capita.\n",
        "- `income`: State personal income (total, nominal).\n",
        "- `tax`: Average state, federal and average local excise taxes for fiscal year. \n",
        "- `price`: Average price during fiscal year, including sales tax.\n",
        "- `taxs`: Average excise taxes for fiscal year, including sales tax.\n",
        "\n",
        "Information on variables - https://cran.r-project.org/web/packages/AER/AER.pdf and then click on cigarettesSW\n",
        "\n",
        "Link to data : https://raw.githubusercontent.com/pallavrouth/AI-Bootcamp/main/Data/cigarettes.csv\n",
        "\n",
        "\n",
        "## Pandas\n",
        "\n",
        "1. Import the data set stored in CSV format\n",
        "1. Pandas dataframe versus pandas series\n",
        "2. Selecting (column wise operations)\n",
        "    1. Select multiple columns \n",
        "    2. Select range of columns \n",
        "    3. Select multiple ranges of columns\n",
        "    4. Droping columns\n",
        "3. Filter (row wise operations)\n",
        "    1. Based on one condition\n",
        "    2. Based on multiple conditions\n",
        "    3. Filter based on numeric versus categorical levels \n",
        "4. Mutate (column wise operations) - adding columns to existing data\n",
        "5. Arrange (row wise operations) - sorting rows based on a variabel \n",
        "6. Summarize (column and row) - summarize groups in data\n",
        "    1. Simple group operations\n",
        "    2. Single group by operations\n",
        "    3. Multiple group by operations on single column\n",
        "    4. Multiple group by operations on multiple columns\n",
        "7. Other tasks - rename columns, drop columns\n",
        "\n",
        "## Plotting\n",
        "\n",
        "1. Distribution of one (continous) variable - histogram\n",
        "2. Distribution of categorical variables - barplot/boxplot\n",
        "3. Distribution of 2 variables - scatter plot/ line plot\n",
        "4. Plot groups of variables by color/shape/facets"
      ]
    },
    {
      "cell_type": "markdown",
      "metadata": {
        "id": "JGwWRwnnMPVU"
      },
      "source": [
        "# Monday"
      ]
    },
    {
      "cell_type": "markdown",
      "metadata": {
        "id": "Eu3hakWCb-C9"
      },
      "source": [
        "## 1. Import the data frame"
      ]
    },
    {
      "cell_type": "code",
      "metadata": {
        "id": "eKW8NX_SELwQ"
      },
      "source": [
        "import pandas as pd"
      ],
      "execution_count": null,
      "outputs": []
    },
    {
      "cell_type": "code",
      "metadata": {
        "id": "laLpsMeDNewx"
      },
      "source": [
        "my_data = pd.read_csv('https://raw.githubusercontent.com/pallavrouth/AI-Bootcamp/main/Data/cigarettes.csv',\n",
        "                      index_col = 0)\n",
        "my_data.head()"
      ],
      "execution_count": null,
      "outputs": []
    },
    {
      "cell_type": "markdown",
      "metadata": {
        "id": "e2VXVQabSoY5"
      },
      "source": [
        "##2. Series verus dataframe\n",
        "\n",
        "In general, using `[]` gives you a series and using `[[]]` gives you a dataframe. I like using the latter because it helps you manipulate data easily. More importantly a series is just the series of values under one column. Therefore, a dataframe can be considered to be a collection of different series."
      ]
    },
    {
      "cell_type": "code",
      "metadata": {
        "id": "SQpbQLCCPLMo"
      },
      "source": [
        "my_data['income'].head()\n",
        "my_data['income']\n",
        "my_data[['income','tax','packs']][['income']]\n",
        "type(my_data[['income','tax','packs']][['income']])"
      ],
      "execution_count": null,
      "outputs": []
    },
    {
      "cell_type": "markdown",
      "metadata": {
        "id": "DxIPVcMnTXaJ"
      },
      "source": [
        "##3. Selecting columns\n",
        "\n",
        "Below are different syntaxes to select a colum from the data"
      ]
    },
    {
      "cell_type": "code",
      "metadata": {
        "id": "JOtTMxV_RtAP"
      },
      "source": [
        "my_data['income'].head()\n",
        "my_data[['income']].head()\n",
        "my_data.income.head()\n",
        "my_data.iloc[:,[5]].head()\n",
        "my_data.loc[:,['income']].head()\n",
        "my_data.filter(regex = 'income').head()"
      ],
      "execution_count": null,
      "outputs": []
    },
    {
      "cell_type": "markdown",
      "metadata": {
        "id": "W01SSsv4Tr8N"
      },
      "source": [
        "I like to use the loc syntax. How do you use iloc to select multiple columns -"
      ]
    },
    {
      "cell_type": "code",
      "metadata": {
        "id": "ty6JRUcmTcyt"
      },
      "source": [
        "my_data.loc[:,['income','tax','price']].head()"
      ],
      "execution_count": null,
      "outputs": []
    },
    {
      "cell_type": "markdown",
      "metadata": {
        "id": "NdN_GuX8TvUV"
      },
      "source": [
        "How to use loc to select a range of columns using `:` operator.  Note : When using a colon do not use the `[]` "
      ]
    },
    {
      "cell_type": "code",
      "metadata": {
        "id": "bQ9q12WgUO7p"
      },
      "source": [
        "# using : to select a single range of columns\n",
        "my_data.loc[:,'income':'price'].head()\n",
        "\n",
        "# using : to select multiple ranges of columns\n",
        "list(my_data.loc[:,'income':'price'])\n",
        "list(my_data.loc[:,'year':'population'])\n",
        "col_names = list(my_data.loc[:,'income':'price']) + list(my_data.loc[:,'year':'population'])\n",
        "my_data.loc[:,col_names].head()"
      ],
      "execution_count": null,
      "outputs": []
    },
    {
      "cell_type": "markdown",
      "metadata": {
        "id": "6cCthaZXXf-1"
      },
      "source": [
        "## 4. Filtering rows\n",
        "\n",
        "Different ways to filter rows"
      ]
    },
    {
      "cell_type": "code",
      "metadata": {
        "id": "cbR8JsO_Xb0z"
      },
      "source": [
        "my_data[my_data.tax > 40].head()\n",
        "my_data[my_data['tax'] > 40].head()\n",
        "my_data.loc[my_data.tax > 40,:].head()\n",
        "my_data.loc[my_data['tax'] > 40,:].head()"
      ],
      "execution_count": null,
      "outputs": []
    },
    {
      "cell_type": "markdown",
      "metadata": {
        "id": "RzlcjhZqYlhw"
      },
      "source": [
        "General syntax : dataframe.column_name or dataframe['column_name']\n",
        "\n",
        "How to filter a column with non-numeric data. Using the `isin` operator."
      ]
    },
    {
      "cell_type": "code",
      "metadata": {
        "id": "l6Qzau0VYk-G"
      },
      "source": [
        "my_data.loc[  my_data['state'].isin(['CT','MA','AL']),:].head()"
      ],
      "execution_count": null,
      "outputs": []
    },
    {
      "cell_type": "markdown",
      "metadata": {
        "id": "5iE5uFN8bemr"
      },
      "source": [
        "## 4. Mutating\n",
        "\n",
        "How to add a column to the data"
      ]
    },
    {
      "cell_type": "code",
      "metadata": {
        "id": "bVg-Ggw_bx9H"
      },
      "source": [
        "my_data['ratio1'] = my_data['price'] / my_data['tax']\n",
        "my_data['ratio2'] = my_data['population'] / my_data['packs']\n",
        "my_data"
      ],
      "execution_count": null,
      "outputs": []
    },
    {
      "cell_type": "markdown",
      "metadata": {
        "id": "ZhWoGabGd1qq"
      },
      "source": [
        "However, the above method cannot be 'chained'. To use chaining use the assign function. More importantly, assign function feels more natural and lets to add many columns all at once. However, you must use the `lambda` functionality in python to use assign."
      ]
    },
    {
      "cell_type": "code",
      "metadata": {
        "id": "NkyqAKNXcZ7H"
      },
      "source": [
        "my_data.assign(ratio1 = lambda x: x['price'] / x['tax'],\n",
        "               ratio2 = lambda x: x['population'] / x['packs'])"
      ],
      "execution_count": null,
      "outputs": []
    },
    {
      "cell_type": "markdown",
      "metadata": {
        "id": "YUQ4SzW1flx9"
      },
      "source": [
        "## 5. Arrangeing rows\n",
        "\n",
        "We can effective sort or arrange rows using the `sort_values` function."
      ]
    },
    {
      "cell_type": "code",
      "metadata": {
        "id": "W1YeB_ipfqlk"
      },
      "source": [
        "my_data.sort_values('income').head()\n",
        "my_data.sort_values(['income','tax']).head()"
      ],
      "execution_count": null,
      "outputs": []
    },
    {
      "cell_type": "markdown",
      "metadata": {
        "id": "Pec0kb-1fojo"
      },
      "source": [
        "## 6. Summarize groups\n",
        "\n",
        "Sometimes we want to group by certain groups in the data and summarise the groups.\n",
        "\n",
        "Simple group by operations such as value_count() can be done without much fuss. "
      ]
    },
    {
      "cell_type": "code",
      "metadata": {
        "id": "QMjA5eC1g4br"
      },
      "source": [
        "my_data['state'].value_counts()"
      ],
      "execution_count": null,
      "outputs": []
    },
    {
      "cell_type": "markdown",
      "metadata": {
        "id": "N1ErGJdEe811"
      },
      "source": [
        "More complex group by operations require using the `group_by` function"
      ]
    },
    {
      "cell_type": "code",
      "metadata": {
        "id": "OT8OuPpShIEA"
      },
      "source": [
        "my_data.groupby('state')[['price']].mean().head()\n",
        "my_data.groupby('state')[['price','tax']].mean().head()"
      ],
      "execution_count": null,
      "outputs": []
    },
    {
      "cell_type": "markdown",
      "metadata": {
        "id": "2zTiySDofHVc"
      },
      "source": [
        "Group by and aggregate in multiple ways. For example, I may want to group by and find both the average as well as the minimum. The `agg` function is really useful here."
      ]
    },
    {
      "cell_type": "code",
      "metadata": {
        "id": "osKoyACChzFB"
      },
      "source": [
        "my_data.groupby('state')[['price']].agg(['mean','min'])"
      ],
      "execution_count": null,
      "outputs": []
    },
    {
      "cell_type": "markdown",
      "metadata": {
        "id": "RoqJ2960fdaC"
      },
      "source": [
        "I may want to group by and use different aggregation functions on different columns. Again use the `agg` function but have to supply a dictionary rather than a list"
      ]
    },
    {
      "cell_type": "code",
      "metadata": {
        "id": "aE5LE1G6i8wc"
      },
      "source": [
        "my_data.groupby('state')[['price','tax']].agg({'price':'mean','tax':'min'})"
      ],
      "execution_count": null,
      "outputs": []
    },
    {
      "cell_type": "markdown",
      "metadata": {
        "id": "yuyXmeSLjnk_"
      },
      "source": [
        "If there are no pre existing functions, you have to use `apply` function. To be continued on Friday"
      ]
    },
    {
      "cell_type": "markdown",
      "metadata": {
        "id": "B_fmFd36nRBN"
      },
      "source": [
        "# Friday"
      ]
    },
    {
      "cell_type": "markdown",
      "metadata": {
        "id": "_q_Nl-ZHn7EJ"
      },
      "source": [
        "Group by state, calculate average price and average tax and then find its ratio"
      ]
    },
    {
      "cell_type": "code",
      "metadata": {
        "id": "LnBgIKJrnUSU"
      },
      "source": [
        "my_data.groupby('state').apply(lambda x : x['price'].mean() / x['tax'].mean() )"
      ],
      "execution_count": null,
      "outputs": []
    },
    {
      "cell_type": "markdown",
      "metadata": {
        "id": "9TzOjGfwb9cH"
      },
      "source": [
        "Matt's homework\n",
        "\n",
        "1. Get the data in"
      ]
    },
    {
      "cell_type": "code",
      "metadata": {
        "id": "NR9Cn-GHb85Y"
      },
      "source": [
        "import pandas as pd\n",
        "import requests\n",
        "\n",
        "download_url = \"https://raw.githubusercontent.com/fivethirtyeight/data/master/nba-elo/nbaallelo.csv\"\n",
        "target_csv_path = \"nba_all_elo.csv\"\n",
        "\n",
        "response = requests.get(download_url)\n",
        "response.raise_for_status()    # Check that the request was successful\n",
        "with open(target_csv_path, \"wb\") as f:\n",
        "    f.write(response.content)\n",
        "\n",
        "nba = pd.read_csv(\"nba_all_elo.csv\")"
      ],
      "execution_count": null,
      "outputs": []
    },
    {
      "cell_type": "markdown",
      "metadata": {
        "id": "k39SfRFKcJN9"
      },
      "source": [
        "1. What is the average for points scored in wins and losses?\n",
        "\n",
        "Strategy \n",
        "\n",
        "Step 1 : First you must FILTER out the rows in the data that correspond to wins and losses"
      ]
    },
    {
      "cell_type": "code",
      "metadata": {
        "id": "Tx-EM7hEcWpr"
      },
      "source": [
        "wins = nba[(nba['game_result'] == \"W\")] "
      ],
      "execution_count": null,
      "outputs": []
    },
    {
      "cell_type": "markdown",
      "metadata": {
        "id": "Y-yKcU9mcmHJ"
      },
      "source": [
        "Step 2 : Now extract the column that stores the 'points' information and then find the mean of this column"
      ]
    },
    {
      "cell_type": "code",
      "metadata": {
        "id": "m4O9kExPcw6U"
      },
      "source": [
        "wins[['pts']].mean()"
      ],
      "execution_count": null,
      "outputs": []
    },
    {
      "cell_type": "markdown",
      "metadata": {
        "id": "mZ21U9Udc063"
      },
      "source": [
        "Note: There are other ways of writing the above code "
      ]
    },
    {
      "cell_type": "code",
      "metadata": {
        "id": "EEUa5WwYc8Bk"
      },
      "source": [
        "wins.pts.mean()\n",
        "wins['pts'].mean()\n",
        "wins.loc[:,['pts']].mean()"
      ],
      "execution_count": null,
      "outputs": []
    },
    {
      "cell_type": "markdown",
      "metadata": {
        "id": "wkU1xz1Xc7ka"
      },
      "source": [
        "They all give you the same result. \n",
        "\n",
        "There is another strategy to get the answer. \n",
        "\n",
        "Step 1: You group by the win category and loss category in the data"
      ]
    },
    {
      "cell_type": "code",
      "metadata": {
        "id": "pRoEApIgdM4a"
      },
      "source": [
        "group_data = nba.groupby(['game_result'])"
      ],
      "execution_count": null,
      "outputs": []
    },
    {
      "cell_type": "markdown",
      "metadata": {
        "id": "inMcao60dRCJ"
      },
      "source": [
        "Step 2: You take this groups and extract the column for points and then find its mean"
      ]
    },
    {
      "cell_type": "code",
      "metadata": {
        "id": "2sBOiyqrdYbc"
      },
      "source": [
        "group_data[['pts']].mean()"
      ],
      "execution_count": null,
      "outputs": []
    },
    {
      "cell_type": "markdown",
      "metadata": {
        "id": "70txasW4di7-"
      },
      "source": [
        "2: How has the average and median points scored for winning and losing team for both team changed by decade?\n",
        "\n",
        "My solution follows this strategy\n",
        "\n",
        "Step 1: I create a new column in the data that says which decade a year belongs to. I create this function that can do that."
      ]
    },
    {
      "cell_type": "code",
      "metadata": {
        "id": "_lzaWs_lePbL"
      },
      "source": [
        "def get_decade(year):\n",
        "  if year > 1949 and year < 1961:\n",
        "    return '1950s'\n",
        "  elif year > 1959 and year < 1971:\n",
        "    return '1960s'\n",
        "  elif year > 1969 and year < 1981:\n",
        "    return '1970s'\n",
        "  elif year > 1979 and year < 1991:\n",
        "    return '1980s' \n",
        "  elif year > 1989 and year < 2001:\n",
        "    return '1990s'\n",
        "  elif year > 1999 and year < 2010:\n",
        "    return '2000s' \n",
        "  else:\n",
        "    return '2010s'"
      ],
      "execution_count": null,
      "outputs": []
    },
    {
      "cell_type": "code",
      "metadata": {
        "id": "tRGI5c7Riulm"
      },
      "source": [
        "# test the function\n",
        "get_decade(1966)"
      ],
      "execution_count": null,
      "outputs": []
    },
    {
      "cell_type": "markdown",
      "metadata": {
        "id": "NF1Z9ncZeZYU"
      },
      "source": [
        "Step 2 : Now apply this function to year column in the data and add it to teh dataset"
      ]
    },
    {
      "cell_type": "code",
      "metadata": {
        "id": "r3W7MWqpeYZ5"
      },
      "source": [
        "nba['decade'] = nba['year_id'].apply(get_decade)\n",
        "nba.columns"
      ],
      "execution_count": null,
      "outputs": []
    },
    {
      "cell_type": "markdown",
      "metadata": {
        "id": "hOWYXZLFhA6s"
      },
      "source": [
        "Step 3 : Now group by decade and calculate average points for winning team"
      ]
    },
    {
      "cell_type": "code",
      "metadata": {
        "id": "X_qli7bzhANj"
      },
      "source": [
        "nba[(nba['game_result'] == \"W\")].groupby('decade')[['pts']].mean()"
      ],
      "execution_count": null,
      "outputs": []
    }
  ]
}